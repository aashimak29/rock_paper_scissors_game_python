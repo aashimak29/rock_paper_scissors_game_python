{
 "cells": [
  {
   "cell_type": "code",
   "execution_count": 3,
   "id": "9e37b341",
   "metadata": {},
   "outputs": [
    {
     "name": "stdout",
     "output_type": "stream",
     "text": [
      "What do you choose? (rock/paper/scissors):Rock\n",
      "Input is invalid. Please choose one of these: rock/paper/scissors.\n",
      "What do you choose? (rock/paper/scissors):rock\n",
      "It's a tie!\n",
      "Player: 0   Computer: 0\n",
      "Do you want to play again? (yes/no): yes\n",
      "What do you choose? (rock/paper/scissors):scissors\n",
      "It's a tie!\n",
      "Player: 0   Computer: 0\n",
      "Do you want to play again? (yes/no): yes\n",
      "What do you choose? (rock/paper/scissors):rock\n",
      "The computer wins!\n",
      "Player: 0   Computer: 1\n",
      "Do you want to play again? (yes/no): yes\n",
      "What do you choose? (rock/paper/scissors):scissors\n",
      "It's a tie!\n",
      "Player: 0   Computer: 1\n",
      "Do you want to play again? (yes/no): yes\n",
      "What do you choose? (rock/paper/scissors):rock\n",
      "It's a tie!\n",
      "Player: 0   Computer: 1\n",
      "Do you want to play again? (yes/no): yes\n",
      "What do you choose? (rock/paper/scissors):paper\n",
      "It's a tie!\n",
      "Player: 0   Computer: 1\n",
      "Do you want to play again? (yes/no): yes\n",
      "What do you choose? (rock/paper/scissors):rock\n",
      "The computer wins!\n",
      "Player: 0   Computer: 2\n",
      "Do you want to play again? (yes/no): yes\n",
      "What do you choose? (rock/paper/scissors):paper\n",
      "The computer wins!\n",
      "Player: 0   Computer: 3\n",
      "Do you want to play again? (yes/no): no\n"
     ]
    }
   ],
   "source": [
    "import random\n",
    "\n",
    "# Setting up the game\n",
    "game_choices = [\"rock\", \"paper\", \"scissors\"]\n",
    "player_score = 0\n",
    "computer_score = 0\n",
    "\n",
    "# Main game loop\n",
    "while True:\n",
    "    # Get player input\n",
    "    player_choice = input('What do you choose? (rock/paper/scissors):')\n",
    "    \n",
    "    # Make sure the input is valid\n",
    "    if player_choice not in game_choices:\n",
    "        print(\"Input is invalid. Please choose one of these: rock/paper/scissors.\")\n",
    "        continue\n",
    "    \n",
    "    # Get computer input\n",
    "    computer_choice = random.choice(game_choices)\n",
    "    \n",
    "    # Determine the winner\n",
    "    if player_choice == computer_choice:\n",
    "        print(\"It's a tie!\")\n",
    "    elif (player_choice == \"rock\" and computer_choice == \"scissors\") or (player_choice == \"paper\" and computer_choice == \"rock\") or (player_choice == \"scissors\" and computer_choice == \"paper\"):\n",
    "        print(\"You win!\")\n",
    "        player_score += 1\n",
    "    else:\n",
    "        print(\"The computer wins!\")\n",
    "        computer_score += 1\n",
    "    \n",
    "    # Print the current score\n",
    "    print(\"Player: {}   Computer: {}\".format(player_score, computer_score))\n",
    "    \n",
    "    # Ask the player if they want to play again\n",
    "    play_again = input(\"Do you want to play again? (yes/no): \")\n",
    "    if play_again.lower() != \"yes\":\n",
    "        break\n"
   ]
  },
  {
   "cell_type": "code",
   "execution_count": null,
   "id": "81711012",
   "metadata": {},
   "outputs": [],
   "source": []
  }
 ],
 "metadata": {
  "kernelspec": {
   "display_name": "Python 3 (ipykernel)",
   "language": "python",
   "name": "python3"
  },
  "language_info": {
   "codemirror_mode": {
    "name": "ipython",
    "version": 3
   },
   "file_extension": ".py",
   "mimetype": "text/x-python",
   "name": "python",
   "nbconvert_exporter": "python",
   "pygments_lexer": "ipython3",
   "version": "3.9.12"
  }
 },
 "nbformat": 4,
 "nbformat_minor": 5
}
